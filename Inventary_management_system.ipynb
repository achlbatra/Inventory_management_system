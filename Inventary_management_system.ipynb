{
 "cells": [
  {
   "cell_type": "code",
   "execution_count": 7,
   "id": "fa5efb65-b8fa-4973-b32c-ab8f0b6c80fc",
   "metadata": {},
   "outputs": [],
   "source": [
    "fd = open(\"Inventary.text\", 'r')\n",
    "fd.close()"
   ]
  },
  {
   "cell_type": "markdown",
   "id": "ae8ff062-1469-446a-a025-72e18235dae3",
   "metadata": {},
   "source": [
    "## product details\n",
    "1. product id\n",
    "2. product name\n",
    "3. price\n",
    "4. quantity"
   ]
  },
  {
   "cell_type": "code",
   "execution_count": 9,
   "id": "6e23bd64-b195-4df4-a126-af73d3c31993",
   "metadata": {},
   "outputs": [],
   "source": [
    "fd = open(\"Inventary.text\", 'r')\n",
    "text = fd.read()\n",
    "fd.close()"
   ]
  },
  {
   "cell_type": "code",
   "execution_count": 3,
   "id": "c0c3ec8c-d32f-47ba-b7ee-dc1f4b90cf88",
   "metadata": {},
   "outputs": [
    {
     "data": {
      "text/plain": [
       "'1,5 Star,5,100\\n2,Milky Bar,5,100\\n3,Dairy Milk,10,150\\n4,KitKat,10,200\\n5,Mars,15,250\\n6,Snickers,20,300\\n7,Twix,25,350\\n8,Bounty,30,400\\n9,Galaxy,35,450\\n10,Lindt,40,500\\n11,Apple,1,100\\n12,Banana,1,150\\n13,Orange,1,120\\n14,Broccoli,2,80\\n15,Carrot,1,90\\n16,Tomato,1,200\\n17,Milk,2,300\\n18,Bread,2,250\\n19,Butter,3,150\\n20,Cheese,4,100\\n21,Chicken Breast,7,80\\n22,Ground Beef,6,60\\n23,Salmon,10,50\\n24,Rice,1,500\\n25,Pasta,1,400\\n26,Olive Oil,5,70\\n27,Salt,1,1000\\n28,Pepper,2,500\\n29,Garlic,2,300\\n30,Onion,1,400'"
      ]
     },
     "execution_count": 3,
     "metadata": {},
     "output_type": "execute_result"
    }
   ],
   "source": [
    "text"
   ]
  },
  {
   "cell_type": "code",
   "execution_count": 10,
   "id": "2e0be387-9bf8-48c2-a97b-365c2fa3feca",
   "metadata": {},
   "outputs": [
    {
     "name": "stdout",
     "output_type": "stream",
     "text": [
      "1,5 Star,5,100\n",
      "2,Milky Bar,5,100\n",
      "3,Dairy Milk,10,150\n",
      "4,KitKat,10,200\n",
      "5,Mars,15,250\n",
      "6,Snickers,20,300\n",
      "7,Twix,25,350\n",
      "8,Bounty,30,400\n",
      "9,Galaxy,35,450\n",
      "10,Lindt,40,500\n",
      "11,Apple,1,100\n",
      "12,Banana,1,150\n",
      "13,Orange,1,120\n",
      "14,Broccoli,2,80\n",
      "15,Carrot,1,90\n",
      "16,Tomato,1,200\n",
      "17,Milk,2,300\n",
      "18,Bread,2,750\n",
      "19,Butter,3,150\n",
      "20,Cheese,4,100\n",
      "21,Chicken Breast,7,80\n",
      "22,Ground Beef,6,60\n",
      "23,Salmon,10,50\n",
      "24,Rice,1,500\n",
      "25,Pasta,1,400\n",
      "26,Olive Oil,5,70\n",
      "27,Salt,1,1000\n",
      "28,Pepper,2,500\n",
      "29,Garlic,2,300\n",
      "30,Onion,1,400\n"
     ]
    }
   ],
   "source": [
    "print(text)"
   ]
  },
  {
   "cell_type": "code",
   "execution_count": 5,
   "id": "799ea4ba-55ac-4c3c-8ef2-35883c601be1",
   "metadata": {},
   "outputs": [
    {
     "name": "stdout",
     "output_type": "stream",
     "text": [
      "30\n"
     ]
    }
   ],
   "source": [
    "print(len(text.split('\\n')))\n",
    "                     "
   ]
  },
  {
   "cell_type": "markdown",
   "id": "b9d3ac52-1fe4-4373-afbc-ac7921213286",
   "metadata": {},
   "source": [
    "\n",
    "### creating bill for the user-purchase"
   ]
  },
  {
   "cell_type": "code",
   "execution_count": 21,
   "id": "f4edcc91-f125-42a2-8068-1d80e274c125",
   "metadata": {},
   "outputs": [
    {
     "name": "stdin",
     "output_type": "stream",
     "text": [
      "Enter your name: panda\n",
      "Enter mail id: panda@gmail.com\n",
      "Enter Phone number: 1884710713\n",
      "Enter the product ID: 16\n",
      "Enter quantity: 10\n"
     ]
    },
    {
     "name": "stdout",
     "output_type": "stream",
     "text": [
      "---------------------------------------------\n",
      "Product ID:     16\n",
      "Product Name:   Tomato\n",
      "Quantity:       10\n",
      "Price:          1\n",
      "---------------------------------------------\n",
      "Billing Amount: 10\n",
      "---------------------------------------------\n"
     ]
    }
   ],
   "source": [
    "import time\n",
    "\n",
    "products = text.split(\"\\n\")\n",
    "ui_custname = input(\"Enter your name:\")\n",
    "ui_mail = input(\"Enter mail id:\")\n",
    "ui_phone = input(\"Enter Phone number:\")\n",
    "ui_prod_id = input(\"Enter the product ID:\")\n",
    "ui_prod_qn = input(\"Enter quantity:\")\n",
    "\n",
    "updated_lst = []\n",
    "\n",
    "for prod_details in products:\n",
    "    prod = prod_details.split(\",\")\n",
    "    if(int(prod[0]) == int(ui_prod_id)):\n",
    "        if int(prod[3])>=int(ui_prod_qn):\n",
    "            print(\"---------------------------------------------\")\n",
    "            print(f\"Product ID:     {prod[0]}\")\n",
    "            print(f\"Product Name:   {prod[1]}\")\n",
    "            print(f\"Quantity:       {ui_prod_qn}\")\n",
    "            print(f\"Price:          {prod[2]}\")\n",
    "            print(\"---------------------------------------------\")\n",
    "            amount = int(ui_prod_qn)*int(prod[2])\n",
    "            print(f\"Billing Amount: {amount}\")\n",
    "            print(\"---------------------------------------------\")\n",
    "            #updating the inventory file with quantity\n",
    "            \n",
    "            prod[3] = str(int(prod[3])-int(ui_prod_qn)) \n",
    "\n",
    "            #generating sales in a file\n",
    "            fd = open(\"sales.text\", 'a')\n",
    "            sale = ui_custname + ',' + ui_mail + ',' + ui_phone + ',' + ui_prod_id + ',' + ui_prod_qn + ',' + str(amount) + ',' + time.ctime() + '\\n'\n",
    "            fd.write(sale)\n",
    "            fd.close()\n",
    "        else:\n",
    "            print(\"Sorry, we do not have enough quantity.\")\n",
    "            print(f\"We have only {prod[3]} available. Do you want to buy?\")\n",
    "            ch = input(\"Y/N\")\n",
    "            if(ch=='Y' or ch=='y'):\n",
    "                print(\"---------------------------------------------\")\n",
    "                print(f\"Product ID:     {prod[0]}\")\n",
    "                print(f\"Product Name:   {prod[1]}\")\n",
    "                print(f\"Quantity:       {prod[3]}\")\n",
    "                print(f\"Price:          {prod[2]}\")\n",
    "                print(\"---------------------------------------------\")\n",
    "                print(f\"Billing Amount: {int(prod[3])*int(prod[2])}\")\n",
    "                print(\"---------------------------------------------\")\n",
    "                #updating the inventory file with quantity\n",
    "                prod[3] = '0'\n",
    "                #generating sales in a file\n",
    "                fd = open(\"sales.text\", 'a')\n",
    "                sale = ui_custname + ',' + ui_mail + ',' + ui_phone + ',' + ui_prod_id + ',' + ui_prod_qn + ',' + str(amount) + ',' + time.ctime() + '\\n'\n",
    "                fd.write(sale)\n",
    "                fd.close()\n",
    "            else:\n",
    "                print(\"Thanks for the visit\")\n",
    "                \n",
    "    updated_lst.append(prod)\n",
    "\n",
    "lst = []\n",
    "\n",
    "for i in updated_lst:\n",
    "    if(i[3]!=0):\n",
    "        new_prod = i[0] + \",\" + i[1] + \",\" + i[2] + \",\" + i[3] + '\\n'\n",
    "        lst.append(new_prod)\n",
    "lst[-1] = lst[-1][:-1]\n",
    "fd = open(\"Inventary.text\", 'w')\n",
    "for i  in lst:\n",
    "    fd.write(i)\n",
    "fd.close()"
   ]
  },
  {
   "cell_type": "code",
   "execution_count": 12,
   "id": "cfe92b1e-4cfc-4d8f-8074-91d10275bec5",
   "metadata": {},
   "outputs": [],
   "source": [
    "fd = open(\"Inventary.text\", 'r')\n",
    "new_text = fd.read()\n",
    "fd.close()"
   ]
  },
  {
   "cell_type": "code",
   "execution_count": 13,
   "id": "d024067b-77d1-47ec-b714-aa5d0a9a6170",
   "metadata": {},
   "outputs": [
    {
     "name": "stdout",
     "output_type": "stream",
     "text": [
      "1,5 Star,5,100\n",
      "2,Milky Bar,5,100\n",
      "3,Dairy Milk,10,150\n",
      "4,KitKat,10,0\n",
      "5,Mars,15,250\n",
      "6,Snickers,20,300\n",
      "7,Twix,25,350\n",
      "8,Bounty,30,400\n",
      "9,Galaxy,35,450\n",
      "10,Lindt,40,500\n",
      "11,Apple,1,100\n",
      "12,Banana,1,150\n",
      "13,Orange,1,120\n",
      "14,Broccoli,2,80\n",
      "15,Carrot,1,90\n",
      "16,Tomato,1,200\n",
      "17,Milk,2,300\n",
      "18,Bread,2,750\n",
      "19,Butter,3,150\n",
      "20,Cheese,4,100\n",
      "21,Chicken Breast,7,80\n",
      "22,Ground Beef,6,60\n",
      "23,Salmon,10,50\n",
      "24,Rice,1,500\n",
      "25,Pasta,1,400\n",
      "26,Olive Oil,5,70\n",
      "27,Salt,1,1000\n",
      "28,Pepper,2,500\n",
      "29,Garlic,2,300\n",
      "30,Onion,1,400\n"
     ]
    }
   ],
   "source": [
    "print(new_text)"
   ]
  },
  {
   "cell_type": "code",
   "execution_count": null,
   "id": "798ab7b3-5e41-49ac-bf19-d9f5ea42f568",
   "metadata": {},
   "outputs": [],
   "source": []
  }
 ],
 "metadata": {
  "kernelspec": {
   "display_name": "Python 3 (ipykernel)",
   "language": "python",
   "name": "python3"
  },
  "language_info": {
   "codemirror_mode": {
    "name": "ipython",
    "version": 3
   },
   "file_extension": ".py",
   "mimetype": "text/x-python",
   "name": "python",
   "nbconvert_exporter": "python",
   "pygments_lexer": "ipython3",
   "version": "3.11.7"
  }
 },
 "nbformat": 4,
 "nbformat_minor": 5
}
